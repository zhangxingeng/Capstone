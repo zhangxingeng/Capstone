{
 "cells": [
  {
   "cell_type": "code",
   "execution_count": 52,
   "id": "a6a22730",
   "metadata": {},
   "outputs": [],
   "source": [
    "import pandas as pd\n",
    "import numpy as np\n",
    "import matplotlib.pyplot as plt\n",
    "import seaborn as sns\n",
    "from scipy import stats \n",
    "from sklearn.feature_selection import SelectKBest, chi2\n",
    "import matplotlib.ticker as mtick"
   ]
  },
  {
   "cell_type": "code",
   "execution_count": 26,
   "id": "8c77cb85",
   "metadata": {},
   "outputs": [],
   "source": [
    "customers_df = pd.read_csv(\"./customers.csv\")"
   ]
  },
  {
   "cell_type": "code",
   "execution_count": 27,
   "id": "64c79965",
   "metadata": {},
   "outputs": [
    {
     "data": {
      "text/html": [
       "<div>\n",
       "<style scoped>\n",
       "    .dataframe tbody tr th:only-of-type {\n",
       "        vertical-align: middle;\n",
       "    }\n",
       "\n",
       "    .dataframe tbody tr th {\n",
       "        vertical-align: top;\n",
       "    }\n",
       "\n",
       "    .dataframe thead th {\n",
       "        text-align: right;\n",
       "    }\n",
       "</style>\n",
       "<table border=\"1\" class=\"dataframe\">\n",
       "  <thead>\n",
       "    <tr style=\"text-align: right;\">\n",
       "      <th></th>\n",
       "      <th>customer_id</th>\n",
       "      <th>FN</th>\n",
       "      <th>Active</th>\n",
       "      <th>club_member_status</th>\n",
       "      <th>fashion_news_frequency</th>\n",
       "      <th>age</th>\n",
       "      <th>postal_code</th>\n",
       "    </tr>\n",
       "  </thead>\n",
       "  <tbody>\n",
       "    <tr>\n",
       "      <th>0</th>\n",
       "      <td>00000dbacae5abe5e23885899a1fa44253a17956c6d1c3...</td>\n",
       "      <td>NaN</td>\n",
       "      <td>NaN</td>\n",
       "      <td>ACTIVE</td>\n",
       "      <td>NONE</td>\n",
       "      <td>49.0</td>\n",
       "      <td>52043ee2162cf5aa7ee79974281641c6f11a68d276429a...</td>\n",
       "    </tr>\n",
       "    <tr>\n",
       "      <th>1</th>\n",
       "      <td>0000423b00ade91418cceaf3b26c6af3dd342b51fd051e...</td>\n",
       "      <td>NaN</td>\n",
       "      <td>NaN</td>\n",
       "      <td>ACTIVE</td>\n",
       "      <td>NONE</td>\n",
       "      <td>25.0</td>\n",
       "      <td>2973abc54daa8a5f8ccfe9362140c63247c5eee03f1d93...</td>\n",
       "    </tr>\n",
       "    <tr>\n",
       "      <th>2</th>\n",
       "      <td>000058a12d5b43e67d225668fa1f8d618c13dc232df0ca...</td>\n",
       "      <td>NaN</td>\n",
       "      <td>NaN</td>\n",
       "      <td>ACTIVE</td>\n",
       "      <td>NONE</td>\n",
       "      <td>24.0</td>\n",
       "      <td>64f17e6a330a85798e4998f62d0930d14db8db1c054af6...</td>\n",
       "    </tr>\n",
       "    <tr>\n",
       "      <th>3</th>\n",
       "      <td>00005ca1c9ed5f5146b52ac8639a40ca9d57aeff4d1bd2...</td>\n",
       "      <td>NaN</td>\n",
       "      <td>NaN</td>\n",
       "      <td>ACTIVE</td>\n",
       "      <td>NONE</td>\n",
       "      <td>54.0</td>\n",
       "      <td>5d36574f52495e81f019b680c843c443bd343d5ca5b1c2...</td>\n",
       "    </tr>\n",
       "    <tr>\n",
       "      <th>4</th>\n",
       "      <td>00006413d8573cd20ed7128e53b7b13819fe5cfc2d801f...</td>\n",
       "      <td>1.0</td>\n",
       "      <td>1.0</td>\n",
       "      <td>ACTIVE</td>\n",
       "      <td>Regularly</td>\n",
       "      <td>52.0</td>\n",
       "      <td>25fa5ddee9aac01b35208d01736e57942317d756b32ddd...</td>\n",
       "    </tr>\n",
       "  </tbody>\n",
       "</table>\n",
       "</div>"
      ],
      "text/plain": [
       "                                         customer_id   FN  Active  \\\n",
       "0  00000dbacae5abe5e23885899a1fa44253a17956c6d1c3...  NaN     NaN   \n",
       "1  0000423b00ade91418cceaf3b26c6af3dd342b51fd051e...  NaN     NaN   \n",
       "2  000058a12d5b43e67d225668fa1f8d618c13dc232df0ca...  NaN     NaN   \n",
       "3  00005ca1c9ed5f5146b52ac8639a40ca9d57aeff4d1bd2...  NaN     NaN   \n",
       "4  00006413d8573cd20ed7128e53b7b13819fe5cfc2d801f...  1.0     1.0   \n",
       "\n",
       "  club_member_status fashion_news_frequency   age  \\\n",
       "0             ACTIVE                   NONE  49.0   \n",
       "1             ACTIVE                   NONE  25.0   \n",
       "2             ACTIVE                   NONE  24.0   \n",
       "3             ACTIVE                   NONE  54.0   \n",
       "4             ACTIVE              Regularly  52.0   \n",
       "\n",
       "                                         postal_code  \n",
       "0  52043ee2162cf5aa7ee79974281641c6f11a68d276429a...  \n",
       "1  2973abc54daa8a5f8ccfe9362140c63247c5eee03f1d93...  \n",
       "2  64f17e6a330a85798e4998f62d0930d14db8db1c054af6...  \n",
       "3  5d36574f52495e81f019b680c843c443bd343d5ca5b1c2...  \n",
       "4  25fa5ddee9aac01b35208d01736e57942317d756b32ddd...  "
      ]
     },
     "execution_count": 27,
     "metadata": {},
     "output_type": "execute_result"
    }
   ],
   "source": [
    "customers_df.head()"
   ]
  },
  {
   "cell_type": "code",
   "execution_count": 29,
   "id": "5b2a3bd1",
   "metadata": {},
   "outputs": [],
   "source": [
    "customers_df.replace('None','NONE',inplace=True)"
   ]
  },
  {
   "cell_type": "code",
   "execution_count": 30,
   "id": "70e7af78",
   "metadata": {},
   "outputs": [],
   "source": [
    "club_member_status_fashion_news_frequency_crosstab = pd.crosstab(customers_df['club_member_status'], customers_df['fashion_news_frequency'], margins = True)\n"
   ]
  },
  {
   "cell_type": "code",
   "execution_count": 31,
   "id": "4069067e",
   "metadata": {
    "scrolled": true
   },
   "outputs": [
    {
     "name": "stdout",
     "output_type": "stream",
     "text": [
      "fashion_news_frequency  Monthly    NONE  Regularly      All\n",
      "club_member_status                                         \n",
      "ACTIVE                      778  788484     471304  1260566\n",
      "LEFT CLUB                     0     459          8      467\n",
      "PRE-CREATE                   59   85065       5787    90911\n",
      "All                         837  874008     477099  1351944\n"
     ]
    }
   ],
   "source": [
    "print(club_member_status_fashion_news_frequency_crosstab)"
   ]
  },
  {
   "cell_type": "code",
   "execution_count": 46,
   "id": "01b7d57e",
   "metadata": {},
   "outputs": [],
   "source": [
    "club_member_status_fashion_news_frequency_crosstab1 = pd.crosstab(customers_df['club_member_status'], customers_df['fashion_news_frequency'])"
   ]
  },
  {
   "cell_type": "code",
   "execution_count": 51,
   "id": "5f9aba5e",
   "metadata": {},
   "outputs": [
    {
     "name": "stdout",
     "output_type": "stream",
     "text": [
      "fashion_news_frequency  Monthly    NONE  Regularly\n",
      "club_member_status                                \n",
      "ACTIVE                      778  788484     471304\n",
      "LEFT CLUB                     0     459          8\n",
      "PRE-CREATE                   59   85065       5787\n"
     ]
    }
   ],
   "source": [
    "print(club_member_status_fashion_news_frequency_crosstab1)"
   ]
  },
  {
   "cell_type": "code",
   "execution_count": 47,
   "id": "0850ced8",
   "metadata": {},
   "outputs": [
    {
     "data": {
      "text/plain": [
       "<AxesSubplot:xlabel='club_member_status'>"
      ]
     },
     "execution_count": 47,
     "metadata": {},
     "output_type": "execute_result"
    },
    {
     "data": {
      "image/png": "[encoded data removed]",
      "text/plain": [
       "<Figure size 504x288 with 1 Axes>"
      ]
     },
     "metadata": {
      "needs_background": "light"
     },
     "output_type": "display_data"
    }
   ],
   "source": [
    "club_member_status_fashion_news_frequency_crosstab1.plot.bar(figsize=(7,4), rot= 0)\n"
   ]
  },
  {
   "cell_type": "code",
   "execution_count": 68,
   "id": "3c57bc9f",
   "metadata": {},
   "outputs": [
    {
     "data": {
      "text/plain": [
       "<Figure size 576x288 with 0 Axes>"
      ]
     },
     "metadata": {},
     "output_type": "display_data"
    },
    {
     "data": {
      "image/png": "[encoded data removed]",
      "text/plain": [
       "<Figure size 432x288 with 1 Axes>"
      ]
     },
     "metadata": {
      "needs_background": "light"
     },
     "output_type": "display_data"
    }
   ],
   "source": [
    "fig = plt.figure(figsize=(8,4))\n",
    "ax = club_member_status_fashion_news_frequency_crosstab1.plot(kind='bar', stacked=True, rot=5)\n",
    "ax.legend(title='fashion_news_frequency', bbox_to_anchor=(1, 1.02), loc='upper left')\n",
    "\n",
    "# add annotations if desired\n",
    "for c in ax.containers:\n",
    "    \n",
    "    # set the bar label\n",
    "    ax.bar_label(c, label_type='center')"
   ]
  },
  {
   "cell_type": "code",
   "execution_count": 32,
   "id": "764f6a4b",
   "metadata": {},
   "outputs": [
    {
     "data": {
      "text/plain": [
       "(35977.33271023214,\n",
       " 0.0,\n",
       " 9,\n",
       " array([[7.80427105e+02, 8.14933731e+05, 4.44851842e+05, 1.26056600e+06],\n",
       "        [2.89123662e-01, 3.01907280e+02, 1.64803596e+02, 4.67000000e+02],\n",
       "        [5.62837714e+01, 5.87723613e+04, 3.20823549e+04, 9.09110000e+04],\n",
       "        [8.37000000e+02, 8.74008000e+05, 4.77099000e+05, 1.35194400e+06]]))"
      ]
     },
     "execution_count": 32,
     "metadata": {},
     "output_type": "execute_result"
    }
   ],
   "source": [
    "val = stats.chi2_contingency(club_member_status_fashion_news_frequency_crosstab)\n",
    "val"
   ]
  },
  {
   "cell_type": "code",
   "execution_count": 33,
   "id": "04b979b6",
   "metadata": {},
   "outputs": [],
   "source": [
    "def check_categorical_dependency(crosstab_table, confidence_interval):\n",
    "    stat, p, dof, expected = stats.chi2_contingency(crosstab_table)\n",
    "    print(\"Chi-square Statistic value = {}\" .format(stat))\n",
    "    print(\"P-Value = {}\" .format(p))\n",
    "    alpha = 1.0 - confidence_interval\n",
    "    if p <= alpha :\n",
    "        print('Dependent (reject H0),There is a relationship between 2 catgorical variables')\n",
    "    else:\n",
    "        print('Independent (fail to reject H0)，There is no relationship between 2 catgorical variables')\n",
    "    return expected\n"
   ]
  },
  {
   "cell_type": "code",
   "execution_count": 34,
   "id": "d6264621",
   "metadata": {},
   "outputs": [
    {
     "name": "stdout",
     "output_type": "stream",
     "text": [
      "Chi-square Statistic value = 35977.33271023214\n",
      "P-Value = 0.0\n",
      "Dependent (reject H0),There is a relationship between 2 catgorical variables\n"
     ]
    }
   ],
   "source": [
    "exp_table_1 = check_categorical_dependency(club_member_status_fashion_news_frequency_crosstab, .95)"
   ]
  },
  {
   "cell_type": "code",
   "execution_count": 36,
   "id": "b646b994",
   "metadata": {},
   "outputs": [
    {
     "data": {
      "text/html": [
       "<div>\n",
       "<style scoped>\n",
       "    .dataframe tbody tr th:only-of-type {\n",
       "        vertical-align: middle;\n",
       "    }\n",
       "\n",
       "    .dataframe tbody tr th {\n",
       "        vertical-align: top;\n",
       "    }\n",
       "\n",
       "    .dataframe thead th {\n",
       "        text-align: right;\n",
       "    }\n",
       "</style>\n",
       "<table border=\"1\" class=\"dataframe\">\n",
       "  <thead>\n",
       "    <tr style=\"text-align: right;\">\n",
       "      <th></th>\n",
       "      <th>0</th>\n",
       "      <th>1</th>\n",
       "      <th>2</th>\n",
       "      <th>3</th>\n",
       "    </tr>\n",
       "  </thead>\n",
       "  <tbody>\n",
       "    <tr>\n",
       "      <th>0</th>\n",
       "      <td>780.427105</td>\n",
       "      <td>814933.731373</td>\n",
       "      <td>444851.841522</td>\n",
       "      <td>1260566.0</td>\n",
       "    </tr>\n",
       "    <tr>\n",
       "      <th>1</th>\n",
       "      <td>0.289124</td>\n",
       "      <td>301.907280</td>\n",
       "      <td>164.803596</td>\n",
       "      <td>467.0</td>\n",
       "    </tr>\n",
       "    <tr>\n",
       "      <th>2</th>\n",
       "      <td>56.283771</td>\n",
       "      <td>58772.361346</td>\n",
       "      <td>32082.354882</td>\n",
       "      <td>90911.0</td>\n",
       "    </tr>\n",
       "    <tr>\n",
       "      <th>3</th>\n",
       "      <td>837.000000</td>\n",
       "      <td>874008.000000</td>\n",
       "      <td>477099.000000</td>\n",
       "      <td>1351944.0</td>\n",
       "    </tr>\n",
       "  </tbody>\n",
       "</table>\n",
       "</div>"
      ],
      "text/plain": [
       "            0              1              2          3\n",
       "0  780.427105  814933.731373  444851.841522  1260566.0\n",
       "1    0.289124     301.907280     164.803596      467.0\n",
       "2   56.283771   58772.361346   32082.354882    90911.0\n",
       "3  837.000000  874008.000000  477099.000000  1351944.0"
      ]
     },
     "execution_count": 36,
     "metadata": {},
     "output_type": "execute_result"
    }
   ],
   "source": [
    "pd.DataFrame(exp_table_1)"
   ]
  },
  {
   "cell_type": "code",
   "execution_count": null,
   "id": "125a85b6",
   "metadata": {},
   "outputs": [],
   "source": []
  }
 ],
 "metadata": {
  "kernelspec": {
   "display_name": "Python 3 (ipykernel)",
   "language": "python",
   "name": "python3"
  },
  "language_info": {
   "codemirror_mode": {
    "name": "ipython",
    "version": 3
   },
   "file_extension": ".py",
   "mimetype": "text/x-python",
   "name": "python",
   "nbconvert_exporter": "python",
   "pygments_lexer": "ipython3",
   "version": "3.9.7"
  }
 },
 "nbformat": 4,
 "nbformat_minor": 5
}
