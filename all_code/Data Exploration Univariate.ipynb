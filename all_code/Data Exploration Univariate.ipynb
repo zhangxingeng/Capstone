{
 "cells": [
  {
   "cell_type": "code",
   "execution_count": null,
   "metadata": {},
   "outputs": [],
   "source": [
    "\"\"\"\n",
    "Univariate analysis on all Transaction data\n",
    "\n",
    "Histogram: \n",
    "Count\n",
    "mode\n",
    "variance: measure of dispersion \n",
    "std dev: sqrt of variance\n",
    "coefficient of deviation: (std dev / mean) * 100% \n",
    "skewness: symmetry or asymmetry\n",
    "kurtosis: measure of distribution compared with Normal \n",
    "\n",
    "Box plot: \n",
    "Min\n",
    "Max\n",
    "mean\n",
    "median \n",
    "quantile \n",
    "range \n",
    "\n",
    "\"\"\""
   ]
  },
  {
   "cell_type": "code",
   "execution_count": null,
   "metadata": {},
   "outputs": [],
   "source": [
    "\"\"\"\n",
    "t_dat: dates of transactions, categorical ordinal            \n",
    "customer_id: customer ID, categorical nominal       \n",
    "article_id: clothing item ID, categorical nominal        \n",
    "price: price of item, numerical interval             \n",
    "sales_channel_id: where item was sold ID, categorical nominal    \n",
    "\n",
    "\"\"\""
   ]
  },
  {
   "cell_type": "code",
   "execution_count": null,
   "metadata": {},
   "outputs": [],
   "source": [
    "import numpy as np\n",
    "import pandas as pd \n",
    "import plotly.express as px\n",
    "import plotly.figure_factory as ff\n",
    "import plotly.graph_objects as go\n"
   ]
  },
  {
   "cell_type": "code",
   "execution_count": null,
   "metadata": {},
   "outputs": [],
   "source": [
    "shared_drive = r\"G:\\.shortcut-targets-by-id\\184tVjsIO-GAjbkSakwDbEZ40M5mPpgu4\\Capstone\\cleaned_data\"\n",
    "google_drive = r\"G:\\My Drive\\Spring_2022\\CS554\\Project\\data\"\n",
    "\n",
    "drive = r\"D:\\Users\\yiboz\\Programming\\Github\\CS554\\data\""
   ]
  },
  {
   "cell_type": "code",
   "execution_count": null,
   "metadata": {},
   "outputs": [],
   "source": [
    "articles = pd.read_csv(shared_drive+r\"\\articles_clean.csv\")\n",
    "customers = pd.read_csv(shared_drive+r\"\\customers_clean.csv\")\n",
    "transactions = pd.read_csv(shared_drive+r\"\\transactions_train.csv\")"
   ]
  },
  {
   "cell_type": "code",
   "execution_count": null,
   "metadata": {},
   "outputs": [],
   "source": [
    "def categoryCounter(df, names): \n",
    "    \n",
    "    counts = df.value_counts().to_frame().reset_index().rename(columns={names[0]:\"count\", \"index\":names[0]})\n",
    "    # counts = df.value_counts().to_frame().rename(columns={names[0]:\"count\"})\n",
    "    total = counts['count'].sum()\n",
    "    counts['freq'] = (counts['count'] / total)*100\n",
    "    \n",
    "    return counts\n",
    "    "
   ]
  },
  {
   "cell_type": "code",
   "execution_count": null,
   "metadata": {},
   "outputs": [],
   "source": [
    "def maxRow(df): \n",
    "    maxC = df['count'].max()\n",
    "    return df.loc[df['count'] == maxC]\n",
    "    "
   ]
  },
  {
   "cell_type": "code",
   "execution_count": null,
   "metadata": {},
   "outputs": [],
   "source": [
    "def minRow(df): \n",
    "    minC = df['count'].min()\n",
    "    return df.loc[df['count'] == minC]"
   ]
  },
  {
   "cell_type": "code",
   "execution_count": null,
   "metadata": {},
   "outputs": [],
   "source": [
    "\"\"\"\n",
    "t_dat\n",
    "Transaction Date Exploration: \n",
    "max: 2019-09-28, 198622, 0.624827\n",
    "min: 2020-01-01, 12760, 0.040141\n",
    "mean: 43308.34332425068 \n",
    "range: 185862\n",
    "\"\"\""
   ]
  },
  {
   "cell_type": "code",
   "execution_count": null,
   "metadata": {},
   "outputs": [],
   "source": [
    "dateCounts = categoryCounter(transactions[\"t_dat\"], ['t_dat'])\n",
    "dateCounts.head()"
   ]
  },
  {
   "cell_type": "code",
   "execution_count": null,
   "metadata": {},
   "outputs": [],
   "source": [
    "maxRow(dateCounts)\n"
   ]
  },
  {
   "cell_type": "code",
   "execution_count": null,
   "metadata": {},
   "outputs": [],
   "source": [
    "minRow(dateCounts)"
   ]
  },
  {
   "cell_type": "code",
   "execution_count": null,
   "metadata": {},
   "outputs": [],
   "source": [
    "dateFig1 = px.bar(dateCounts, x=\"t_dat\", y=\"freq\", title=\"Transaction Date Frequency\")\n",
    "dateFig1.show()"
   ]
  },
  {
   "cell_type": "code",
   "execution_count": null,
   "metadata": {},
   "outputs": [],
   "source": [
    "dateFig2 = px.bar(dateCounts, x=\"t_dat\", y=\"count\", title=\"Transaction Date Counts\")\n",
    "dateFig2.show()"
   ]
  },
  {
   "cell_type": "code",
   "execution_count": null,
   "metadata": {},
   "outputs": [],
   "source": [
    "\"\"\"\n",
    "customer_id \n",
    "Customer ID exploration \n",
    "unique: 1,362,281\n",
    "max: 1895, 0.005961\n",
    "min: 1, 131514 rows \n",
    "mean: 23.334630667241193\n",
    "\n",
    "Graph not meaningful, too many unique values \n",
    "\n",
    "\"\"\""
   ]
  },
  {
   "cell_type": "code",
   "execution_count": null,
   "metadata": {},
   "outputs": [],
   "source": [
    "customerCounts = categoryCounter(transactions[\"customer_id\"], ['customer_id'])\n",
    "customerCounts.head()"
   ]
  },
  {
   "cell_type": "code",
   "execution_count": null,
   "metadata": {},
   "outputs": [],
   "source": [
    "maxRow(customerCounts)"
   ]
  },
  {
   "cell_type": "code",
   "execution_count": null,
   "metadata": {},
   "outputs": [],
   "source": [
    "minRow(customerCounts)"
   ]
  },
  {
   "cell_type": "code",
   "execution_count": null,
   "metadata": {},
   "outputs": [],
   "source": [
    "meanC = customerCounts['count'].mean()\n",
    "meanC"
   ]
  },
  {
   "cell_type": "code",
   "execution_count": null,
   "metadata": {},
   "outputs": [],
   "source": [
    "\"\"\"\n",
    "article_id \n",
    "Article ID exploration:\n",
    "max: 706016001, 50287, 0.158193\n",
    "min: 1, 4491 rows \n",
    "mean: 304.057734798703 \n",
    "range: \n",
    "\n",
    "\"\"\""
   ]
  },
  {
   "cell_type": "code",
   "execution_count": null,
   "metadata": {},
   "outputs": [],
   "source": [
    "articleCounts = categoryCounter(transactions['article_id'], ['article_id'])\n",
    "articleCounts.head()"
   ]
  },
  {
   "cell_type": "code",
   "execution_count": null,
   "metadata": {},
   "outputs": [],
   "source": [
    "articleCounts.count()"
   ]
  },
  {
   "cell_type": "code",
   "execution_count": null,
   "metadata": {},
   "outputs": [],
   "source": [
    "maxRow(articleCounts)"
   ]
  },
  {
   "cell_type": "code",
   "execution_count": null,
   "metadata": {},
   "outputs": [],
   "source": [
    "minRow(articleCounts)"
   ]
  },
  {
   "cell_type": "code",
   "execution_count": null,
   "metadata": {},
   "outputs": [],
   "source": [
    "articleCounts['count'].mean()"
   ]
  },
  {
   "cell_type": "code",
   "execution_count": null,
   "metadata": {
    "scrolled": true
   },
   "outputs": [],
   "source": [
    "articles.head()"
   ]
  },
  {
   "cell_type": "code",
   "execution_count": null,
   "metadata": {},
   "outputs": [],
   "source": [
    "articles = articles[['article_id', 'index_group_name']]\n",
    "articles = articles.set_index('article_id')"
   ]
  },
  {
   "cell_type": "code",
   "execution_count": null,
   "metadata": {},
   "outputs": [],
   "source": [
    "joinedArticles = articleCounts.join(articles, on='article_id' )\n",
    "joinedArticles.head()"
   ]
  },
  {
   "cell_type": "code",
   "execution_count": null,
   "metadata": {
    "scrolled": true
   },
   "outputs": [],
   "source": [
    "joinedArticles['index_group_name'].value_counts()"
   ]
  },
  {
   "cell_type": "code",
   "execution_count": null,
   "metadata": {},
   "outputs": [],
   "source": [
    "aggjoinedArticles = joinedArticles.groupby(['index_group_name']).sum().sort_values(by=['count'], ascending=False)\n",
    "aggjoinedArticles"
   ]
  },
  {
   "cell_type": "code",
   "execution_count": null,
   "metadata": {
    "scrolled": false
   },
   "outputs": [],
   "source": [
    "articleFig1 = px.bar(aggjoinedArticles, x=aggjoinedArticles.index, y=\"freq\", title=\"Articles Group Frequency\")\n",
    "articleFig1.show()\n"
   ]
  },
  {
   "cell_type": "code",
   "execution_count": null,
   "metadata": {},
   "outputs": [],
   "source": [
    "articleFig2 = px.bar(aggjoinedArticles, x=aggjoinedArticles.index, y=\"count\", title=\"Articles Group Counts\")\n",
    "articleFig2.show()"
   ]
  },
  {
   "cell_type": "code",
   "execution_count": null,
   "metadata": {},
   "outputs": [],
   "source": [
    "\"\"\"\n",
    "price \n",
    "Price exploration:\n",
    "mean     2.782927e-02\n",
    "std      1.918113e-02\n",
    "min      1.694915e-05\n",
    "25%      1.581356e-02\n",
    "50%      2.540678e-02\n",
    "75%      3.388136e-02\n",
    "max      5.915254e-01\n",
    "\n",
    "sample: \n",
    "mean     2.782653e-02\n",
    "std      1.914895e-02\n",
    "min      5.084746e-05\n",
    "25%      1.579661e-02\n",
    "50%      2.540678e-02\n",
    "75%      3.388136e-02\n",
    "max      5.067797e-01\n",
    "\n",
    "skewness: 3.1105182811393455\n",
    "kurtosis: 25.681147025714665\n",
    "\n",
    "\"\"\""
   ]
  },
  {
   "cell_type": "code",
   "execution_count": null,
   "metadata": {},
   "outputs": [],
   "source": [
    "prices = transactions['price']\n",
    "prices.head()"
   ]
  },
  {
   "cell_type": "code",
   "execution_count": null,
   "metadata": {},
   "outputs": [],
   "source": [
    "prices.describe()"
   ]
  },
  {
   "cell_type": "code",
   "execution_count": null,
   "metadata": {
    "scrolled": true
   },
   "outputs": [],
   "source": [
    "prices.kurtosis()"
   ]
  },
  {
   "cell_type": "code",
   "execution_count": null,
   "metadata": {},
   "outputs": [],
   "source": [
    "prices.skew()"
   ]
  },
  {
   "cell_type": "code",
   "execution_count": null,
   "metadata": {},
   "outputs": [],
   "source": [
    "samplePrices = prices.sample(frac=0.10)\n",
    "samplePrices.head()"
   ]
  },
  {
   "cell_type": "code",
   "execution_count": null,
   "metadata": {
    "scrolled": true
   },
   "outputs": [],
   "source": [
    "samplePrices = samplePrices.to_frame()\n"
   ]
  },
  {
   "cell_type": "code",
   "execution_count": null,
   "metadata": {},
   "outputs": [],
   "source": [
    "samplePrices.describe()"
   ]
  },
  {
   "cell_type": "code",
   "execution_count": null,
   "metadata": {},
   "outputs": [],
   "source": [
    "priceFig1 = px.box(samplePrices, y=\"price\", points=False, title=\"Prices with No Outliers\" )\n",
    "priceFig1.show()"
   ]
  },
  {
   "cell_type": "code",
   "execution_count": null,
   "metadata": {},
   "outputs": [],
   "source": [
    "#priceFig1 = ff.create_distplot([prices], ['prices_dist'])\n",
    "#priceFig1.show()"
   ]
  },
  {
   "cell_type": "code",
   "execution_count": null,
   "metadata": {},
   "outputs": [],
   "source": [
    "\"\"\"\n",
    "sales_channel_id \n",
    "Sales Channel exploration: \n",
    "max: 2, 22379862, 70.402774\n",
    "min: 1, 9408462, 29.597226\n",
    "mean:  \n",
    "range: \n",
    "\n",
    "\"\"\""
   ]
  },
  {
   "cell_type": "code",
   "execution_count": null,
   "metadata": {},
   "outputs": [],
   "source": [
    "salesCCounts = categoryCounter(transactions['sales_channel_id'], ['sales_channel_id'])\n",
    "salesCCounts.head()"
   ]
  },
  {
   "cell_type": "code",
   "execution_count": null,
   "metadata": {},
   "outputs": [],
   "source": [
    "salesCCounts.mean()"
   ]
  },
  {
   "cell_type": "code",
   "execution_count": null,
   "metadata": {},
   "outputs": [],
   "source": [
    "salesCFig1 = px.bar(salesCCounts, x=\"sales_channel_id\", y=\"count\")\n",
    "salesCFig1.show()"
   ]
  },
  {
   "cell_type": "code",
   "execution_count": null,
   "metadata": {},
   "outputs": [],
   "source": [
    "salesCFig2 = px.pie(salesCCounts, values='count', names='sales_channel_id', title='Sales Channel Splits')\n",
    "salesCFig2.show()"
   ]
  },
  {
   "cell_type": "code",
   "execution_count": null,
   "metadata": {},
   "outputs": [],
   "source": []
  }
 ],
 "metadata": {
  "kernelspec": {
   "display_name": "Python 3",
   "language": "python",
   "name": "python3"
  },
  "language_info": {
   "codemirror_mode": {
    "name": "ipython",
    "version": 3
   },
   "file_extension": ".py",
   "mimetype": "text/x-python",
   "name": "python",
   "nbconvert_exporter": "python",
   "pygments_lexer": "ipython3",
   "version": "3.7.1"
  }
 },
 "nbformat": 4,
 "nbformat_minor": 5
}
