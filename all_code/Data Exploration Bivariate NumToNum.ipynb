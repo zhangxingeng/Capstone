{
 "cells": [
  {
   "cell_type": "code",
   "execution_count": null,
   "metadata": {},
   "outputs": [],
   "source": [
    "import pandas as pd \n",
    "import plotly.express as px\n"
   ]
  },
  {
   "cell_type": "code",
   "execution_count": null,
   "metadata": {},
   "outputs": [],
   "source": [
    "shared_drive = r\"G:\\.shortcut-targets-by-id\\184tVjsIO-GAjbkSakwDbEZ40M5mPpgu4\\Capstone\\cleaned_data\"\n",
    "google_drive = r\"G:\\My Drive\\Spring_2022\\CS554\\Project\\data\"\n",
    "\n",
    "drive = r\"D:\\Users\\yiboz\\Programming\\Github\\CS554\\data\""
   ]
  },
  {
   "cell_type": "code",
   "execution_count": null,
   "metadata": {},
   "outputs": [],
   "source": [
    "articles = pd.read_csv(shared_drive+r\"\\articles_clean.csv\")\n",
    "customers = pd.read_csv(shared_drive+r\"\\customers_clean.csv\")\n",
    "transactions = pd.read_csv(shared_drive+r\"\\transactions_train.csv\")"
   ]
  },
  {
   "cell_type": "code",
   "execution_count": null,
   "metadata": {},
   "outputs": [],
   "source": [
    "\"\"\"\n",
    "Num to num bivariate analysis \n",
    "(Customers.age and Transactions.price) \n",
    "\n",
    "https://www.pythonfordatascience.org/variance-covariance-correlation/#correlation\n",
    "\n",
    "Observations: \n",
    "Covariance: 0.013649\n",
    "Correlation: 0.054944 \n",
    "\n",
    "Low absolute values of covariance and correlation suggests a weak linear relationship between these values\n",
    "\n",
    "\n",
    "\"\"\""
   ]
  },
  {
   "cell_type": "code",
   "execution_count": null,
   "metadata": {},
   "outputs": [],
   "source": [
    "trans_join_cust_cats = transactions.join(customers[['customer_id', 'age', 'club_member_status', 'fashion_news_frequency']].set_index('customer_id'), on='customer_id')\n",
    "trans_join_cust_cats.head()"
   ]
  },
  {
   "cell_type": "code",
   "execution_count": null,
   "metadata": {},
   "outputs": [],
   "source": [
    "full_trans_join = trans_join_cust_cats.join(articles[['article_id', 'index_group_name', 'colour_group_name']].set_index('article_id'), on='article_id')\n",
    "full_trans_join.head()\n"
   ]
  },
  {
   "cell_type": "code",
   "execution_count": null,
   "metadata": {},
   "outputs": [],
   "source": [
    "def num_to_num(df, nums, plot=False, frac=0.01): \n",
    "    df = df[nums]\n",
    "    var = df.var() \n",
    "    cov = df.cov()\n",
    "    corr = df.corr()\n",
    "    \n",
    "    if plot: \n",
    "        sampleDf = df.sample(frac=frac)\n",
    "        fig = px.scatter_matrix(sampleDf)\n",
    "        fig.show()\n",
    "    d = {'nums':nums, 'Variance': var.values.tolist(), 'Covariance': cov[nums[0]].tolist(), 'Correlation': corr[nums[0]].tolist()}\n",
    "    return pd.DataFrame(data=d)\n",
    "    "
   ]
  },
  {
   "cell_type": "code",
   "execution_count": null,
   "metadata": {},
   "outputs": [],
   "source": [
    "num_to_num(full_trans_join, ['price', 'age'], plot=True)"
   ]
  },
  {
   "cell_type": "code",
   "execution_count": null,
   "metadata": {},
   "outputs": [],
   "source": [
    "transactions_nums.describe()"
   ]
  },
  {
   "cell_type": "code",
   "execution_count": null,
   "metadata": {},
   "outputs": [],
   "source": [
    "sampleTransactions = transactions_nums.sample(frac=0.01)\n",
    "sampleTransactions.describe()"
   ]
  },
  {
   "cell_type": "code",
   "execution_count": null,
   "metadata": {},
   "outputs": [],
   "source": [
    "\"\"\"\n",
    "Categorical and Numerical Data \n",
    "\n",
    "Violin graphs to visualize distribution \n",
    "full_trans_join = transactions left join customers.age on customer_id and articles on article_id \n",
    "\n",
    "Perhaps need to sample data \n",
    "\n",
    "|Cat|Num|\n",
    "|---|---|\n",
    "|t_dat|price|\n",
    "|sales_channel_id|price|\n",
    "|club_member_status|price|\n",
    "|fashion_news_frequency|price|\n",
    "|index_group_name|price|\n",
    "|colour_group_name|price|\n",
    "|all the above|age|\n",
    "\n",
    "\"\"\""
   ]
  },
  {
   "cell_type": "code",
   "execution_count": null,
   "metadata": {},
   "outputs": [],
   "source": [
    "cats = [\"sales_channel_id\", \"club_member_status\", \"fashion_news_frequency\", \"index_group_name\", \"colour_group_name\"]\n",
    "nums = [\"price\", \"age\"]"
   ]
  },
  {
   "cell_type": "code",
   "execution_count": null,
   "metadata": {},
   "outputs": [],
   "source": [
    "def no_hovering(df): \n",
    "    no_hover = {}\n",
    "    for cols in df.columns: \n",
    "        no_hover[cols] = False\n",
    "    return no_hover"
   ]
  },
  {
   "cell_type": "code",
   "execution_count": null,
   "metadata": {},
   "outputs": [],
   "source": [
    "def keep_top_cats(df, col, num): \n",
    "    # keep the top num largest categories \n",
    "    # rename the rest into 'Other'\n",
    "    keep = df[col].value_counts().head(num).index.tolist()\n",
    "    df1 = df\n",
    "    cond = ~df1[col].isin(keep)\n",
    "    df1.loc[cond, col] = 'Other' \n",
    "    \n",
    "    return df1\n",
    "    "
   ]
  },
  {
   "cell_type": "code",
   "execution_count": null,
   "metadata": {},
   "outputs": [],
   "source": [
    "def cat_num_distributions(df, cats, nums, max_cols=10, hovering=False): \n",
    "    figs = []\n",
    "    no_hover = {}\n",
    "    if ~hovering: \n",
    "        no_hover = no_hovering(df)\n",
    "    \n",
    "    for n in nums: \n",
    "        for c in cats: \n",
    "            \n",
    "            fig_title = str(n).upper() + \" X \" + str(c).upper()\n",
    "            if df[c].value_counts().size > max_cols: \n",
    "                # only get top default 10 largest values \n",
    "                # aggregate rest into 'Other'\n",
    "                tempDf = keep_top_cats(df, c, max_cols)\n",
    "                fig = px.violin(tempDf, y=n, x=c, box=True, points=False, title=fig_title, hover_data = no_hover)\n",
    "                figs.append(fig)\n",
    "            else:            \n",
    "                fig = px.violin(df, y=n, x=c, box=True, points=False, title=fig_title, hover_data = no_hover)\n",
    "                figs.append(fig)\n",
    "    return figs "
   ]
  },
  {
   "cell_type": "code",
   "execution_count": null,
   "metadata": {},
   "outputs": [],
   "source": [
    "full_trans_join.describe()"
   ]
  },
  {
   "cell_type": "code",
   "execution_count": null,
   "metadata": {
    "scrolled": true
   },
   "outputs": [],
   "source": [
    "sampleTrans = full_trans_join.sample(frac=0.01)\n",
    "sampleTrans.describe()"
   ]
  },
  {
   "cell_type": "code",
   "execution_count": null,
   "metadata": {},
   "outputs": [],
   "source": [
    "all_figures = cat_num_distributions(sampleTrans, cats, nums)"
   ]
  },
  {
   "cell_type": "code",
   "execution_count": null,
   "metadata": {
    "scrolled": true
   },
   "outputs": [],
   "source": [
    "# for f in all_figures: \n",
    "#    f.show()"
   ]
  }
 ],
 "metadata": {
  "kernelspec": {
   "display_name": "Python 3",
   "language": "python",
   "name": "python3"
  },
  "language_info": {
   "codemirror_mode": {
    "name": "ipython",
    "version": 3
   },
   "file_extension": ".py",
   "mimetype": "text/x-python",
   "name": "python",
   "nbconvert_exporter": "python",
   "pygments_lexer": "ipython3",
   "version": "3.7.1"
  }
 },
 "nbformat": 4,
 "nbformat_minor": 2
}
