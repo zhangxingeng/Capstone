{
  "nbformat": 4,
  "nbformat_minor": 0,
  "metadata": {
    "colab": {
      "name": "RecommendTest",
      "provenance": [],
      "collapsed_sections": [],
      "authorship_tag": "ABX9TyMn+mQJ0DylOzyLYh0tRQkD",
      "include_colab_link": true
    },
    "kernelspec": {
      "name": "python3",
      "display_name": "Python 3"
    },
    "language_info": {
      "name": "python"
    }
  },
  "cells": [
    {
      "cell_type": "markdown",
      "metadata": {
        "id": "view-in-github",
        "colab_type": "text"
      },
      "source": [
        "<a href=\"https://colab.research.google.com/github/zhangxingeng/Capstone/blob/main/Cofilter_Xingeng.ipynb\" target=\"_parent\"><img src=\"https://colab.research.google.com/assets/colab-badge.svg\" alt=\"Open In Colab\"/></a>"
      ]
    },
    {
      "cell_type": "code",
      "execution_count": null,
      "metadata": {
        "colab": {
          "base_uri": "https://localhost:8080/"
        },
        "id": "b0bBSNwsQ6ga",
        "outputId": "a2fd001a-cec4-46aa-93c0-c98b3fc0a22c"
      },
      "outputs": [
        {
          "output_type": "stream",
          "name": "stdout",
          "text": [
            "Drive already mounted at /content/gdrive; to attempt to forcibly remount, call drive.mount(\"/content/gdrive\", force_remount=True).\n",
            "The autoreload extension is already loaded. To reload it, use:\n",
            "  %reload_ext autoreload\n"
          ]
        }
      ],
      "source": [
        "from google.colab import drive\n",
        "drive.mount('/content/gdrive')\n",
        "\n",
        "%load_ext autoreload\n",
        "%autoreload 2"
      ]
    },
    {
      "cell_type": "code",
      "source": [
        "import pandas as pd\n",
        "import numpy as np\n",
        "import pickle\n",
        "projectPath = \"/content/gdrive/MyDrive/Capstone/co_filter\""
      ],
      "metadata": {
        "id": "be1yCv97Q-cA"
      },
      "execution_count": null,
      "outputs": []
    },
    {
      "cell_type": "code",
      "source": [
        "initial_co_filter_df_aquire = False"
      ],
      "metadata": {
        "id": "GNK-2dme5qZN"
      },
      "execution_count": null,
      "outputs": []
    },
    {
      "cell_type": "code",
      "source": [
        "if initial_co_filter_df_aquire: # Parse datafram to customerID, ItemID, Rating where rating is just count of purchase\n",
        "    # article = pd.read_csv(\"/content/gdrive/MyDrive/Capstone/cleaned_data/articles_clean.csv\")\n",
        "    # customer = pd.read_csv(\"/content/gdrive/MyDrive/Capstone/cleaned_data/customers_clean.csv\")\n",
        "    trans = pd.read_csv(\"/content/gdrive/MyDrive/Capstone/cleaned_data/transactions_train.csv\")\n",
        "\n",
        "    customArticlePair = trans[[\"customer_id\", \"article_id\"]] #.head(1000)\n",
        "    countPlaceholder = pd.Series([1 for x in range(len(customArticlePair))])\n",
        "    customArticlePair.loc[:, \"rating\"] = countPlaceholder # Add a column of purchase count\n",
        "    # customArticlePair.to_csv(\"/content/gdrive/MyDrive/Capstone/co_filter/customer_article_pair.csv\",index=False)\n",
        "    countGroup = customArticlePair.groupby([\"customer_id\", \"article_id\"]).count() # count purchase numbers\n",
        "    countGroup.to_csv(\"/content/gdrive/MyDrive/Capstone/co_filter/customer_article_count.csv\") # Save Counts to csv file"
      ],
      "metadata": {
        "id": "arXwKHo5-fGQ"
      },
      "execution_count": null,
      "outputs": []
    },
    {
      "cell_type": "code",
      "source": [
        "encode_all_ids = False"
      ],
      "metadata": {
        "id": "bmU_a0qV6tGS"
      },
      "execution_count": null,
      "outputs": []
    },
    {
      "cell_type": "code",
      "source": [
        "def index_continuous_encode(df, colName):\n",
        "    ''' Encode original ids into continious ids for future pivoting '''\n",
        "    current = 0\n",
        "    idEncodeDict = {}\n",
        "    for i in df.index:\n",
        "        idOrigin = df.at[i, colName]\n",
        "        if idOrigin not in idEncodeDict.keys():\n",
        "            idEncodeDict[idOrigin] = current\n",
        "            current += 1\n",
        "        df.loc[i, colName] = idEncodeDict[idOrigin]\n",
        "    return idEncodeDict\n",
        "\n",
        "def get_n_user_rating(df, n):\n",
        "    ''' Sample all movies viewed by n users, better partial prediction than random pick'''\n",
        "    dfSampledUser = df['customer_id'].sample(n=n)\n",
        "    selected = df.loc[df['customer_id'].isin(dfSampledUser)].copy()\n",
        "    return selected\n",
        "\n",
        "def pickle_dump(path, d):\n",
        "    with open(path, 'wb+') as f:\n",
        "        pickle.dump(d, f)"
      ],
      "metadata": {
        "id": "zRy-Ug7s4gok"
      },
      "execution_count": null,
      "outputs": []
    },
    {
      "cell_type": "code",
      "source": [
        "if encode_all_ids:\n",
        "    encodes = {}\n",
        "    userCount = 20\n",
        "    countDf = pd.read_csv(f\"{projectPath}/customer_article_count.csv\")\n",
        "    dfSample = get_n_user_rating(countDf, userCount) # get all purchase of random n users\n",
        "    # tester = dfSample.sort_values(by='rating', ascending=False).head(100)\n",
        "    encodes[\"customer_id\"] = index_continuous_encode(dfSample, 'customer_id')\n",
        "    encodes[\"article_id\"] = index_continuous_encode(dfSample, 'article_id')\n",
        "    pickle_dump(f\"{projectPath}/customer_id_encoding_{userCount}_user.pkl\", encodes[\"customer_id\"])\n",
        "    pickle_dump(f\"{projectPath}/article_id_encoding_{userCount}_user.pkl\", encodes[\"article_id\"])\n",
        "    dfSample.to_csv(f\"{projectPath}/sampled_{userCount}_user_all_purchase.csv\") # Save Counts to csv file"
      ],
      "metadata": {
        "id": "FZgC-xAS0RTS"
      },
      "execution_count": null,
      "outputs": []
    },
    {
      "cell_type": "code",
      "source": [
        "def pickle_load(path):\n",
        "    with open(path, 'rb') as f:\n",
        "        return pickle.load(f)\n",
        "\n",
        "if False: # Reminder, For future use\n",
        "    encodes = {}\n",
        "    encodes[\"customer_id\"] = pickle_load(f\"{projectPath}/customer_id_encoding_{getUserCount}_user.pkl\")\n",
        "    encodes[\"article_id\"] = pickle_load(f\"{projectPath}/article_id_encoding_{getUserCount}_user.pkl\")"
      ],
      "metadata": {
        "id": "tCp97JxhQaZ4"
      },
      "execution_count": null,
      "outputs": []
    },
    {
      "cell_type": "code",
      "source": [
        "normalize_rating = True"
      ],
      "metadata": {
        "id": "eSwK0XIYQQW6"
      },
      "execution_count": null,
      "outputs": []
    },
    {
      "cell_type": "code",
      "source": [
        "def normalize_purchase_count(df):\n",
        "    df_matrix = pd.pivot_table(df, values='rating', index='customer_id', columns='article_id')\n",
        "    df_matrix_norm = (df_matrix-df_matrix.min())/(df_matrix.max()-df_matrix.min())\n",
        "    d = df_matrix_norm.reset_index()\n",
        "    print(d.head())\n",
        "    # d.index.names = ['scaled_purchase_freq']\n",
        "    # return pd.melt(d, id_vars=['customerId'], value_name='scaled_purchase_freq').dropna()"
      ],
      "metadata": {
        "id": "66vLAcCsVNbe"
      },
      "execution_count": null,
      "outputs": []
    },
    {
      "cell_type": "code",
      "source": [
        "if normalize_rating:\n",
        "    userCount = 20\n",
        "    dfSample = pd.read_csv(f\"{projectPath}/sampled_{userCount}_user_all_purchase.csv\") # Save Counts to csv file\n",
        "    df_matrix = pd.pivot_table(dfSample, values='rating', index='customer_id', columns='article_id')\n",
        "    df_matrix_norm = (df_matrix-df_matrix.min())/(df_matrix.max()-df_matrix.min())\n",
        "    df_matrix_norm = df_matrix_norm.reset_index() # get customer_id out from being row index for unpivoting\n",
        "    ratingNormDf = pd.melt(df_matrix_norm, id_vars=['customer_id'], value_name='rating_norm').dropna() # unpivot article_ids into tuples\n",
        "    ratingNormDf.to_csv(f\"{projectPath}/normalized_rating_triples.csv\") # Save to csv file\n",
        "    display(ratingNormDf.head())"
      ],
      "metadata": {
        "colab": {
          "base_uri": "https://localhost:8080/",
          "height": 206
        },
        "id": "lzjkFnKbwbyy",
        "outputId": "a87feff9-e1fe-49e0-f407-33b215296970"
      },
      "execution_count": null,
      "outputs": [
        {
          "output_type": "display_data",
          "data": {
            "text/plain": [
              "      customer_id article_id  rating_norm\n",
              "1341            1         67          1.0\n",
              "1354           14         67          0.0\n",
              "1521            1         76          1.0\n",
              "1523            3         76          0.0\n",
              "1538           18         76          0.2"
            ],
            "text/html": [
              "\n",
              "  <div id=\"df-1eaa79ee-389f-44be-82f7-a092a98a26ef\">\n",
              "    <div class=\"colab-df-container\">\n",
              "      <div>\n",
              "<style scoped>\n",
              "    .dataframe tbody tr th:only-of-type {\n",
              "        vertical-align: middle;\n",
              "    }\n",
              "\n",
              "    .dataframe tbody tr th {\n",
              "        vertical-align: top;\n",
              "    }\n",
              "\n",
              "    .dataframe thead th {\n",
              "        text-align: right;\n",
              "    }\n",
              "</style>\n",
              "<table border=\"1\" class=\"dataframe\">\n",
              "  <thead>\n",
              "    <tr style=\"text-align: right;\">\n",
              "      <th></th>\n",
              "      <th>customer_id</th>\n",
              "      <th>article_id</th>\n",
              "      <th>rating_norm</th>\n",
              "    </tr>\n",
              "  </thead>\n",
              "  <tbody>\n",
              "    <tr>\n",
              "      <th>1341</th>\n",
              "      <td>1</td>\n",
              "      <td>67</td>\n",
              "      <td>1.0</td>\n",
              "    </tr>\n",
              "    <tr>\n",
              "      <th>1354</th>\n",
              "      <td>14</td>\n",
              "      <td>67</td>\n",
              "      <td>0.0</td>\n",
              "    </tr>\n",
              "    <tr>\n",
              "      <th>1521</th>\n",
              "      <td>1</td>\n",
              "      <td>76</td>\n",
              "      <td>1.0</td>\n",
              "    </tr>\n",
              "    <tr>\n",
              "      <th>1523</th>\n",
              "      <td>3</td>\n",
              "      <td>76</td>\n",
              "      <td>0.0</td>\n",
              "    </tr>\n",
              "    <tr>\n",
              "      <th>1538</th>\n",
              "      <td>18</td>\n",
              "      <td>76</td>\n",
              "      <td>0.2</td>\n",
              "    </tr>\n",
              "  </tbody>\n",
              "</table>\n",
              "</div>\n",
              "      <button class=\"colab-df-convert\" onclick=\"convertToInteractive('df-1eaa79ee-389f-44be-82f7-a092a98a26ef')\"\n",
              "              title=\"Convert this dataframe to an interactive table.\"\n",
              "              style=\"display:none;\">\n",
              "        \n",
              "  <svg xmlns=\"http://www.w3.org/2000/svg\" height=\"24px\"viewBox=\"0 0 24 24\"\n",
              "       width=\"24px\">\n",
              "    <path d=\"M0 0h24v24H0V0z\" fill=\"none\"/>\n",
              "    <path d=\"M18.56 5.44l.94 2.06.94-2.06 2.06-.94-2.06-.94-.94-2.06-.94 2.06-2.06.94zm-11 1L8.5 8.5l.94-2.06 2.06-.94-2.06-.94L8.5 2.5l-.94 2.06-2.06.94zm10 10l.94 2.06.94-2.06 2.06-.94-2.06-.94-.94-2.06-.94 2.06-2.06.94z\"/><path d=\"M17.41 7.96l-1.37-1.37c-.4-.4-.92-.59-1.43-.59-.52 0-1.04.2-1.43.59L10.3 9.45l-7.72 7.72c-.78.78-.78 2.05 0 2.83L4 21.41c.39.39.9.59 1.41.59.51 0 1.02-.2 1.41-.59l7.78-7.78 2.81-2.81c.8-.78.8-2.07 0-2.86zM5.41 20L4 18.59l7.72-7.72 1.47 1.35L5.41 20z\"/>\n",
              "  </svg>\n",
              "      </button>\n",
              "      \n",
              "  <style>\n",
              "    .colab-df-container {\n",
              "      display:flex;\n",
              "      flex-wrap:wrap;\n",
              "      gap: 12px;\n",
              "    }\n",
              "\n",
              "    .colab-df-convert {\n",
              "      background-color: #E8F0FE;\n",
              "      border: none;\n",
              "      border-radius: 50%;\n",
              "      cursor: pointer;\n",
              "      display: none;\n",
              "      fill: #1967D2;\n",
              "      height: 32px;\n",
              "      padding: 0 0 0 0;\n",
              "      width: 32px;\n",
              "    }\n",
              "\n",
              "    .colab-df-convert:hover {\n",
              "      background-color: #E2EBFA;\n",
              "      box-shadow: 0px 1px 2px rgba(60, 64, 67, 0.3), 0px 1px 3px 1px rgba(60, 64, 67, 0.15);\n",
              "      fill: #174EA6;\n",
              "    }\n",
              "\n",
              "    [theme=dark] .colab-df-convert {\n",
              "      background-color: #3B4455;\n",
              "      fill: #D2E3FC;\n",
              "    }\n",
              "\n",
              "    [theme=dark] .colab-df-convert:hover {\n",
              "      background-color: #434B5C;\n",
              "      box-shadow: 0px 1px 3px 1px rgba(0, 0, 0, 0.15);\n",
              "      filter: drop-shadow(0px 1px 2px rgba(0, 0, 0, 0.3));\n",
              "      fill: #FFFFFF;\n",
              "    }\n",
              "  </style>\n",
              "\n",
              "      <script>\n",
              "        const buttonEl =\n",
              "          document.querySelector('#df-1eaa79ee-389f-44be-82f7-a092a98a26ef button.colab-df-convert');\n",
              "        buttonEl.style.display =\n",
              "          google.colab.kernel.accessAllowed ? 'block' : 'none';\n",
              "\n",
              "        async function convertToInteractive(key) {\n",
              "          const element = document.querySelector('#df-1eaa79ee-389f-44be-82f7-a092a98a26ef');\n",
              "          const dataTable =\n",
              "            await google.colab.kernel.invokeFunction('convertToInteractive',\n",
              "                                                     [key], {});\n",
              "          if (!dataTable) return;\n",
              "\n",
              "          const docLinkHtml = 'Like what you see? Visit the ' +\n",
              "            '<a target=\"_blank\" href=https://colab.research.google.com/notebooks/data_table.ipynb>data table notebook</a>'\n",
              "            + ' to learn more about interactive tables.';\n",
              "          element.innerHTML = '';\n",
              "          dataTable['output_type'] = 'display_data';\n",
              "          await google.colab.output.renderOutput(dataTable, element);\n",
              "          const docLink = document.createElement('div');\n",
              "          docLink.innerHTML = docLinkHtml;\n",
              "          element.appendChild(docLink);\n",
              "        }\n",
              "      </script>\n",
              "    </div>\n",
              "  </div>\n",
              "  "
            ]
          },
          "metadata": {}
        }
      ]
    },
    {
      "cell_type": "code",
      "source": [
        "split_data = True\n",
        "!pip -q install sklearn\n",
        "!pip -q install turicreate\n",
        "from sklearn.model_selection import train_test_split"
      ],
      "metadata": {
        "colab": {
          "base_uri": "https://localhost:8080/"
        },
        "id": "KLtt8vhYHjtN",
        "outputId": "5da434bf-8457-47f1-9f39-7633bb26ea4a"
      },
      "execution_count": null,
      "outputs": [
        {
          "output_type": "stream",
          "name": "stdout",
          "text": [
            "\u001b[K     |████████████████████████████████| 86.4 MB 72 kB/s \n",
            "\u001b[K     |████████████████████████████████| 3.5 MB 30.7 MB/s \n",
            "\u001b[K     |████████████████████████████████| 322 kB 41.9 MB/s \n",
            "\u001b[K     |████████████████████████████████| 3.6 MB 9.3 MB/s \n",
            "\u001b[K     |████████████████████████████████| 18.3 MB 1.4 MB/s \n",
            "\u001b[K     |████████████████████████████████| 449 kB 10.3 MB/s \n",
            "\u001b[K     |████████████████████████████████| 20.1 MB 1.6 MB/s \n",
            "\u001b[K     |████████████████████████████████| 2.9 MB 53.0 MB/s \n",
            "\u001b[K     |████████████████████████████████| 3.8 MB 23.0 MB/s \n",
            "\u001b[K     |████████████████████████████████| 50 kB 7.8 MB/s \n",
            "\u001b[?25h  Building wheel for prettytable (setup.py) ... \u001b[?25l\u001b[?25hdone\n",
            "  Building wheel for resampy (setup.py) ... \u001b[?25l\u001b[?25hdone\n",
            "  Building wheel for gast (setup.py) ... \u001b[?25l\u001b[?25hdone\n",
            "\u001b[31mERROR: pip's dependency resolver does not currently take into account all the packages that are installed. This behaviour is the source of the following dependency conflicts.\n",
            "tensorflow-probability 0.16.0 requires gast>=0.3.2, but you have gast 0.2.2 which is incompatible.\n",
            "tables 3.7.0 requires numpy>=1.19.0, but you have numpy 1.18.5 which is incompatible.\n",
            "librosa 0.8.1 requires resampy>=0.2.2, but you have resampy 0.2.1 which is incompatible.\n",
            "jaxlib 0.3.2+cuda11.cudnn805 requires numpy>=1.19, but you have numpy 1.18.5 which is incompatible.\n",
            "jax 0.3.4 requires numpy>=1.19, but you have numpy 1.18.5 which is incompatible.\n",
            "datascience 0.10.6 requires folium==0.2.1, but you have folium 0.8.3 which is incompatible.\n",
            "albumentations 0.1.12 requires imgaug<0.2.7,>=0.2.5, but you have imgaug 0.2.9 which is incompatible.\u001b[0m\n"
          ]
        }
      ]
    },
    {
      "cell_type": "code",
      "source": [
        "import turicreate as tc\n",
        "def split_data(data, test_ratio=0.2):\n",
        "    train, test = train_test_split(data, test_size =test_ratio)\n",
        "    train_data = tc.SFrame(train)\n",
        "    test_data = tc.SFrame(test)\n",
        "    return train_data, test_data"
      ],
      "metadata": {
        "id": "6QWDxNY3A8K9"
      },
      "execution_count": null,
      "outputs": []
    },
    {
      "cell_type": "code",
      "source": [
        "if split_data:\n",
        "    ratingNormDf = pd.read_csv(f\"{projectPath}/normalized_rating_triples.csv\")\n",
        "    train_data_norm, test_data_norm = split_data(ratingNormDf)\n",
        "\n",
        "\n",
        "def model(train_data, name, user_id, item_id, target, users_to_recommend, n_rec, n_display):\n",
        "    if name == 'popularity':\n",
        "        model = tc.popularity_recommender.create(train_data, user_id=user_id, item_id=item_id, target=target)\n",
        "    elif name == 'cosine':\n",
        "        model = tc.item_similarity_recommender.create(train_data, user_id=user_id, item_id=item_id, target=target, similarity_type='cosine')\n",
        "    elif name == 'pearson':\n",
        "            model = tc.item_similarity_recommender.create(train_data, user_id=user_id, item_id=item_id, target=target, similarity_type='pearson')\n",
        "        \n",
        "    recom = model.recommend(users=users_to_recommend, k=n_rec)\n",
        "    recom.print_rows(n_display)\n",
        "    return model\n",
        "\n",
        "user_id = 'customer_id'\n",
        "item_id = 'article_id'\n",
        "users_to_recommend = list(customers[user_id])\n",
        "n_rec = 10 # number of items to recommend\n",
        "n_display = 30 # to display the first few rows in an output dataset"
      ],
      "metadata": {
        "id": "tX7zvM9pxQLW"
      },
      "execution_count": null,
      "outputs": []
    }
  ]
}