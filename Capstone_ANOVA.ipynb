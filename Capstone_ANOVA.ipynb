{
  "nbformat": 4,
  "nbformat_minor": 0,
  "metadata": {
    "colab": {
      "name": "Capstone_ANOVA.ipynb",
      "provenance": [],
      "collapsed_sections": [],
      "mount_file_id": "1OmI98mq8CUut9OolOHvXN6APKPVB-OIo",
      "authorship_tag": "ABX9TyOQqQyqUnkPjTTbWS+lJEhk",
      "include_colab_link": true
    },
    "kernelspec": {
      "name": "python3",
      "display_name": "Python 3"
    },
    "language_info": {
      "name": "python"
    }
  },
  "cells": [
    {
      "cell_type": "markdown",
      "metadata": {
        "id": "view-in-github",
        "colab_type": "text"
      },
      "source": [
        "<a href=\"https://colab.research.google.com/github/zhangxingeng/Capstone/blob/main/Capstone_ANOVA.ipynb\" target=\"_parent\"><img src=\"https://colab.research.google.com/assets/colab-badge.svg\" alt=\"Open In Colab\"/></a>"
      ]
    },
    {
      "cell_type": "code",
      "execution_count": 3,
      "metadata": {
        "colab": {
          "base_uri": "https://localhost:8080/"
        },
        "id": "7SIJsfJixmFf",
        "outputId": "147d193c-d1e6-46f7-9037-86338307c36e"
      },
      "outputs": [
        {
          "output_type": "stream",
          "name": "stdout",
          "text": [
            "Drive already mounted at /content/gdrive; to attempt to forcibly remount, call drive.mount(\"/content/gdrive\", force_remount=True).\n"
          ]
        }
      ],
      "source": [
        "from google.colab import drive\n",
        "drive.mount('/content/gdrive')"
      ]
    },
    {
      "cell_type": "code",
      "source": [
        "import pandas as pd\n",
        "import numpy as np\n",
        "!pip -q install statsmodels\n",
        "import statsmodels\n",
        "\n",
        "article = pd.read_csv(\"/content/gdrive/MyDrive/Capstone/cleaned_data/articles_clean.csv\")\n",
        "customer = pd.read_csv(\"/content/gdrive/MyDrive/Capstone/cleaned_data/customers_clean.csv\")\n",
        "trans = pd.read_csv(\"/content/gdrive/MyDrive/Capstone/cleaned_data/transactions_train.csv\")"
      ],
      "metadata": {
        "id": "YEJMRT_o4eAO"
      },
      "execution_count": 4,
      "outputs": []
    },
    {
      "cell_type": "code",
      "source": [
        "''' Replace string label to int label '''\n",
        "catMap = {'LEFT CLUB':0, 'ACTIVE':2,'PRE-CREATE': 1, np.nan: 3}\n",
        "newTable = customer.replace({ 'club_member_status': catMap})\n",
        "\n",
        "from tabulate import tabulate\n",
        "def drawTable(value: dict, header: list) -> str:\n",
        "  ''' Draw a given dictionary into string '''\n",
        "  return tabulate([(k,) + v for k, v in value.items()], headers=header, tablefmt='fancy_grid', numalign=\"right\")"
      ],
      "metadata": {
        "id": "m366PXySTdY1"
      },
      "execution_count": 5,
      "outputs": []
    },
    {
      "cell_type": "code",
      "source": [
        "def univariateAnalysis(table:pd.DataFrame, numName:str, catName:str, catKeys: list)->None:\n",
        "  valDict = {}\n",
        "  num, cat = table[numName], table[catName]\n",
        "\n",
        "  for k in catKeys:\n",
        "    curr = num[cat==k]\n",
        "    valDict[k] = (len(curr), curr.mean(), curr.var())\n",
        "\n",
        "  header = [\"key\", \"count\", \"mean\", \"variance\"]\n",
        "  print(drawTable(valDict, header))\n",
        "\n",
        "''' Drawing Table '''\n",
        "univariateAnalysis(newTable, 'age', 'club_member_status', [0, 1, 2, 3])\n"
      ],
      "metadata": {
        "colab": {
          "base_uri": "https://localhost:8080/"
        },
        "id": "zdBoVz9ZF_2x",
        "outputId": "7ecc4636-177e-4510-ee3d-b0aeb89cccc6"
      },
      "execution_count": 6,
      "outputs": [
        {
          "output_type": "stream",
          "name": "stdout",
          "text": [
            "╒═══════╤═════════╤═════════╤════════════╕\n",
            "│   key │   count │    mean │   variance │\n",
            "╞═══════╪═════════╪═════════╪════════════╡\n",
            "│     0 │     467 │ 34.0021 │    190.667 │\n",
            "├───────┼─────────┼─────────┼────────────┤\n",
            "│     1 │   92960 │ 40.4998 │    174.188 │\n",
            "├───────┼─────────┼─────────┼────────────┤\n",
            "│     2 │ 1272491 │ 36.0776 │    203.638 │\n",
            "├───────┼─────────┼─────────┼────────────┤\n",
            "│     3 │    6062 │ 37.4264 │    120.828 │\n",
            "╘═══════╧═════════╧═════════╧════════════╛\n"
          ]
        }
      ]
    },
    {
      "cell_type": "code",
      "source": [
        "from itertools import combinations\n",
        "from statsmodels.stats.weightstats import ztest, ttest_ind\n",
        "\n",
        "def statTests(table:pd.DataFrame, numName:str, catName:str, catKeys: list)->None:\n",
        "  valDict = {}\n",
        "  num, cat = table[numName], table[catName]\n",
        "  for v1, v2 in list(combinations(catKeys,2)):\n",
        "    r1, r2 = num[cat==v1], num[cat==v2]\n",
        "    zvalue, pvalue1 = ztest(r1, r2, value=0)\n",
        "    tvalue, pvalue2, dof = ttest_ind(r1, r2)\n",
        "    valDict[f\"{v1}, {v2}\"] = (zvalue, tvalue, dof, pvalue1)\n",
        "    if pvalue1-pvalue2 > 1e-10: print(\"Problem\")\n",
        "\n",
        "  header = [\"key pair\", \"Z-Test\", \"T-Test\", \"DOF\", \"p-value\" ]\n",
        "  print(drawTable(valDict, header)) \n",
        "\n",
        "''' Drawing Table '''\n",
        "statTests(newTable, 'age', 'club_member_status', [0, 1, 2, 3])"
      ],
      "metadata": {
        "colab": {
          "base_uri": "https://localhost:8080/"
        },
        "id": "1CQU9_C0yn__",
        "outputId": "28393b4d-9add-412c-eb5f-cf68842971eb"
      },
      "execution_count": 7,
      "outputs": [
        {
          "output_type": "stream",
          "name": "stderr",
          "text": [
            "/usr/local/lib/python3.7/dist-packages/statsmodels/tools/_testing.py:19: FutureWarning: pandas.util.testing is deprecated. Use the functions in the public API at pandas.testing instead.\n",
            "  import pandas.util.testing as tm\n"
          ]
        },
        {
          "output_type": "stream",
          "name": "stdout",
          "text": [
            "╒════════════╤══════════╤══════════╤═════════════╤═════════════╕\n",
            "│ key pair   │   Z-Test │   T-Test │         DOF │     p-value │\n",
            "╞════════════╪══════════╪══════════╪═════════════╪═════════════╡\n",
            "│ 0, 1       │   -10.61 │   -10.61 │       93425 │ 2.67829e-26 │\n",
            "├────────────┼──────────┼──────────┼─────────────┼─────────────┤\n",
            "│ 0, 2       │ -3.14247 │ -3.14247 │ 1.27296e+06 │  0.00167531 │\n",
            "├────────────┼──────────┼──────────┼─────────────┼─────────────┤\n",
            "│ 0, 3       │ -6.35693 │ -6.35693 │        6527 │ 2.05823e-10 │\n",
            "├────────────┼──────────┼──────────┼─────────────┼─────────────┤\n",
            "│ 1, 2       │  91.6628 │  91.6628 │ 1.36545e+06 │           0 │\n",
            "├────────────┼──────────┼──────────┼─────────────┼─────────────┤\n",
            "│ 1, 3       │  17.7339 │  17.7339 │       99020 │ 2.29562e-70 │\n",
            "├────────────┼──────────┼──────────┼─────────────┼─────────────┤\n",
            "│ 2, 3       │ -7.34885 │ -7.34885 │ 1.27855e+06 │ 1.99916e-13 │\n",
            "╘════════════╧══════════╧══════════╧═════════════╧═════════════╛\n"
          ]
        }
      ]
    },
    {
      "cell_type": "code",
      "source": [
        "from scipy import stats\n",
        "def anovaTable(table: pd.DataFrame, numName: str, catName: str, keys: list) -> None: # comment out for testing\n",
        "# def anovaTable(): # comment in for testing\n",
        "  sumList, sum2List, cntList =[], [], []\n",
        "  # keys = [0, 1, 2] # comment in for testing\n",
        "  # num = {0: [86,65,90,75], 1:[96,80,70,80,91], 2: [85,90,95,70,70]} # comment in for testing\n",
        "  for k in keys:\n",
        "    num, cat = table[numName], table[catName] # comment out for testing\n",
        "    curr = num[cat==k] # comment out for testing\n",
        "    # curr = np.array(num[k]) # comment in for testing\n",
        "    sumList.append(curr.sum())\n",
        "    sum2List.append(np.square(curr).sum())\n",
        "    cntList.append(len(curr))\n",
        "\n",
        "  sum_sqsum_over_c = sum([s2/c for s2, c in zip(np.square(sumList), cntList)])\n",
        "  sumsq_over_sum_c = sum(sumList)**2/sum(cntList)\n",
        "  sum_sum_sq = sum(sum2List)\n",
        "  ssb = sum_sqsum_over_c - sumsq_over_sum_c\n",
        "  ssw = sum_sum_sq - sum_sqsum_over_c\n",
        "  sst = sum_sum_sq - sumsq_over_sum_c\n",
        "\n",
        "  dfw = sum(cntList) - float(len(cntList))\n",
        "  dfb = len(cntList) - 1.0\n",
        "  dft = sum(cntList) - 1.0\n",
        "\n",
        "  msb = ssb/dfb\n",
        "  msw = ssw/dfw\n",
        "  f = msb/msw\n",
        "  pf = 1-stats.f.cdf(f, dfb, dfw)\n",
        "\n",
        "  ''' Print a Table For the Result '''\n",
        "  data = {\"Between Groups\":(ssb, dfb, round(msb, 3), round(f, 3), round(pf, 3)), \n",
        "          \"Within Groups\":(ssw, dfw, round(msw, 3), \"\", \"\"),\n",
        "          \"Total\":(sst, dft, \"\", \"\", \"\")}\n",
        "  header = [\"Source of Variation\", \"Sum of Squares\", \"Degree of freedom\", \"Meansquare\", \"F-value\", \"probability\"]\n",
        "  print(drawTable(data, header))\n",
        "\n",
        "''' Drawing Table '''\n",
        "anovaTable(newTable, 'age', 'club_member_status', [0,1,2])"
      ],
      "metadata": {
        "colab": {
          "base_uri": "https://localhost:8080/"
        },
        "id": "0nQA2uF1IfY2",
        "outputId": "9fc8484c-b500-4efa-fc09-49ebce37c0e2"
      },
      "execution_count": 8,
      "outputs": [
        {
          "output_type": "stream",
          "name": "stdout",
          "text": [
            "╒═══════════════════════╤══════════════════╤═════════════════════╤══════════════╤═══════════╤═══════════════╕\n",
            "│ Source of Variation   │   Sum of Squares │   Degree of freedom │ Meansquare   │ F-value   │ probability   │\n",
            "╞═══════════════════════╪══════════════════╪═════════════════════╪══════════════╪═══════════╪═══════════════╡\n",
            "│ Between Groups        │      1.69677e+06 │                   2 │ 848383.557   │ 4207.648  │ 0.0           │\n",
            "├───────────────────────┼──────────────────┼─────────────────────┼──────────────┼───────────┼───────────────┤\n",
            "│ Within Groups         │      2.75408e+08 │         1.36592e+06 │ 201.629      │           │               │\n",
            "├───────────────────────┼──────────────────┼─────────────────────┼──────────────┼───────────┼───────────────┤\n",
            "│ Total                 │      2.77105e+08 │         1.36592e+06 │              │           │               │\n",
            "╘═══════════════════════╧══════════════════╧═════════════════════╧══════════════╧═══════════╧═══════════════╛\n"
          ]
        }
      ]
    },
    {
      "cell_type": "code",
      "source": [
        "color = article[[\"article_id\", \"colour_group_name\"]]\n",
        "price = trans[[\"article_id\",\"price\"]]\n",
        "priceColor = pd.merge(price, color, how=\"inner\", on=\"article_id\")\n",
        "print(priceColor.head())"
      ],
      "metadata": {
        "colab": {
          "base_uri": "https://localhost:8080/"
        },
        "id": "4ckGz9HXBB3U",
        "outputId": "2d8d2821-30c4-4155-f9e8-181d7c377d18"
      },
      "execution_count": 9,
      "outputs": [
        {
          "output_type": "stream",
          "name": "stdout",
          "text": [
            "   article_id     price colour_group_name\n",
            "0   663713001  0.050831             Black\n",
            "1   663713001  0.049475             Black\n",
            "2   663713001  0.050831             Black\n",
            "3   663713001  0.050831             Black\n",
            "4   663713001  0.050831             Black\n"
          ]
        }
      ]
    },
    {
      "cell_type": "code",
      "source": [
        "univariateAnalysis(priceColor, 'price', 'colour_group_name', [\"Black\", \"Dark Blue\", \"White\"])\n",
        "statTests(priceColor, 'price', 'colour_group_name', [\"Black\", \"Dark Blue\", \"White\"])\n",
        "anovaTable(priceColor, 'price', 'colour_group_name', [\"Black\", \"Dark Blue\", \"White\"])"
      ],
      "metadata": {
        "colab": {
          "base_uri": "https://localhost:8080/"
        },
        "id": "z-L_HeplCnlW",
        "outputId": "69a1a959-90c5-4046-aae2-2f0b18be1b8c"
      },
      "execution_count": 10,
      "outputs": [
        {
          "output_type": "stream",
          "name": "stdout",
          "text": [
            "╒═══════════╤══════════╤═══════════╤═════════════╕\n",
            "│ key       │    count │      mean │    variance │\n",
            "╞═══════════╪══════════╪═══════════╪═════════════╡\n",
            "│ Black     │ 11036956 │ 0.0280246 │ 0.000356485 │\n",
            "├───────────┼──────────┼───────────┼─────────────┤\n",
            "│ Dark Blue │  2180620 │ 0.0293807 │ 0.000418592 │\n",
            "├───────────┼──────────┼───────────┼─────────────┤\n",
            "│ White     │  3368276 │ 0.0226262 │ 0.000211745 │\n",
            "╘═══════════╧══════════╧═══════════╧═════════════╛\n",
            "╒══════════════════╤══════════╤══════════╤═════════════╤═══════════╕\n",
            "│ key pair         │   Z-Test │   T-Test │         DOF │   p-value │\n",
            "╞══════════════════╪══════════╪══════════╪═════════════╪═══════════╡\n",
            "│ Black, Dark Blue │ -95.5516 │ -95.5516 │ 1.32176e+07 │         0 │\n",
            "├──────────────────┼──────────┼──────────┼─────────────┼───────────┤\n",
            "│ Black, White     │  482.809 │  482.809 │ 1.44052e+07 │         0 │\n",
            "├──────────────────┼──────────┼──────────┼─────────────┼───────────┤\n",
            "│ Dark Blue, White │  453.967 │  453.967 │ 5.54889e+06 │         0 │\n",
            "╘══════════════════╧══════════╧══════════╧═════════════╧═══════════╛\n",
            "╒═══════════════════════╤══════════════════╤═════════════════════╤══════════════╤════════════╤═══════════════╕\n",
            "│ Source of Variation   │   Sum of Squares │   Degree of freedom │ Meansquare   │ F-value    │ probability   │\n",
            "╞═══════════════════════╪══════════════════╪═════════════════════╪══════════════╪════════════╪═══════════════╡\n",
            "│ Between Groups        │          88.1932 │                   2 │ 44.097       │ 131531.029 │ 0.0           │\n",
            "├───────────────────────┼──────────────────┼─────────────────────┼──────────────┼────────────┼───────────────┤\n",
            "│ Within Groups         │          5560.51 │         1.65858e+07 │ 0.0          │            │               │\n",
            "├───────────────────────┼──────────────────┼─────────────────────┼──────────────┼────────────┼───────────────┤\n",
            "│ Total                 │          5648.71 │         1.65859e+07 │              │            │               │\n",
            "╘═══════════════════════╧══════════════════╧═════════════════════╧══════════════╧════════════╧═══════════════╛\n"
          ]
        }
      ]
    },
    {
      "cell_type": "code",
      "source": [
        "h = [\"Name\", \"Keys\", \"Columns\", \"Rows\", \"Size\"]\n",
        "d = {\n",
        "\"articles.csv\": (\"Article_id\", 25, 105542, \"35MB\"), \n",
        "\"customers.csv\": (\"customer_id\", 7, 1356119, \"207MB\"), \n",
        "\"transaction_train.csv\": (\"Article_id, customer_id\", 5, 31788324, \"3.49GB\")\n",
        "}\n",
        "print(drawTable(d, h))"
      ],
      "metadata": {
        "colab": {
          "base_uri": "https://localhost:8080/"
        },
        "id": "XtM6QSApcEHT",
        "outputId": "0d9791cd-0b77-4fb6-98fd-fbd90799a1a1"
      },
      "execution_count": 15,
      "outputs": [
        {
          "output_type": "stream",
          "name": "stdout",
          "text": [
            "╒═══════════════════════╤═════════════════════════╤═══════════╤══════════╤════════╕\n",
            "│ Name                  │ Keys                    │   Columns │     Rows │ Size   │\n",
            "╞═══════════════════════╪═════════════════════════╪═══════════╪══════════╪════════╡\n",
            "│ articles.csv          │ Article_id              │        25 │   105542 │ 35MB   │\n",
            "├───────────────────────┼─────────────────────────┼───────────┼──────────┼────────┤\n",
            "│ customers.csv         │ customer_id             │         7 │  1356119 │ 207MB  │\n",
            "├───────────────────────┼─────────────────────────┼───────────┼──────────┼────────┤\n",
            "│ transaction_train.csv │ Article_id, customer_id │         5 │ 31788324 │ 3.49GB │\n",
            "╘═══════════════════════╧═════════════════════════╧═══════════╧══════════╧════════╛\n"
          ]
        }
      ]
    },
    {
      "cell_type": "code",
      "source": [
        ""
      ],
      "metadata": {
        "id": "ao0nunRzd6tc"
      },
      "execution_count": null,
      "outputs": []
    }
  ]
}