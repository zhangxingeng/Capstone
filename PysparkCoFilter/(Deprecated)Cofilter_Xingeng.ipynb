{
  "cells": [
    {
      "cell_type": "code",
      "execution_count": 1,
      "metadata": {
        "colab": {
          "base_uri": "https://localhost:8080/"
        },
        "id": "b0bBSNwsQ6ga",
        "outputId": "5eacfa6f-95f8-418c-ec27-60f0bece5f69"
      },
      "outputs": [],
      "source": [
        "# from google.colab import drive\n",
        "# drive.mount('/content/gdrive')\n"
      ]
    },
    {
      "cell_type": "code",
      "execution_count": 1,
      "metadata": {
        "colab": {
          "base_uri": "https://localhost:8080/"
        },
        "id": "be1yCv97Q-cA",
        "outputId": "7eba491e-59e5-4089-f6cd-3e4914f3d5b6"
      },
      "outputs": [],
      "source": [
        "# %load_ext autoreload\n",
        "# %autoreload 2\n",
        "\n",
        "# !pip -q install sklearn\n",
        "# !pip -q install turicreate\n",
        "\n",
        "import pandas as pd\n",
        "import numpy as np\n",
        "import pickle\n",
        "import gc\n",
        "\n",
        "import turicreate as tc\n",
        "from sklearn.model_selection import train_test_split\n",
        "\n",
        "projectPath = \"./co_filter\"\n",
        "gc.enable()"
      ]
    },
    {
      "cell_type": "markdown",
      "metadata": {},
      "source": [
        "## Get Raw Data and parse useful data only"
      ]
    },
    {
      "cell_type": "code",
      "execution_count": 2,
      "metadata": {
        "colab": {
          "base_uri": "https://localhost:8080/"
        },
        "id": "arXwKHo5-fGQ",
        "outputId": "e9338bfc-361b-492e-fb77-3de9cdade2df"
      },
      "outputs": [],
      "source": [
        "initial_co_filter_df_aquire = False\n",
        "if initial_co_filter_df_aquire: # Parse datafram to customerID, ItemID, Rating where rating is just count of purchase\n",
        "    # article = pd.read_csv(\"/content/gdrive/MyDrive/Capstone/cleaned_data/articles_clean.csv\")\n",
        "    # customer = pd.read_csv(\"/content/gdrive/MyDrive/Capstone/cleaned_data/customers_clean.csv\")\n",
        "    trans = pd.read_csv(\"./transactions_train.csv\")\n",
        "\n",
        "    customArticlePair = trans[[\"customer_id\", \"article_id\"]] #.head(1000)\n",
        "    countPlaceholder = pd.Series([1 for x in range(len(customArticlePair))])\n",
        "    customArticlePair.loc[:, \"rating\"] = countPlaceholder # Add a column of purchase count\n",
        "    # customArticlePair.to_csv(\"/content/gdrive/MyDrive/Capstone/co_filter/customer_article_pair.csv\",index=False)\n",
        "    countGroup = customArticlePair.groupby([\"customer_id\", \"article_id\"]).count() # count purchase numbers\n",
        "    countGroup.to_csv(f\"{projectPath}/customer_article_count.csv\") # Save Counts to csv file"
      ]
    },
    {
      "cell_type": "markdown",
      "metadata": {},
      "source": [
        "## Make ids continious"
      ]
    },
    {
      "cell_type": "code",
      "execution_count": 4,
      "metadata": {
        "id": "zRy-Ug7s4gok"
      },
      "outputs": [],
      "source": [
        "def index_continuous_encode(df, colName):\n",
        "    ''' Encode original ids into continious ids for future pivoting '''\n",
        "    current = 0\n",
        "    idEncodeDict = {}\n",
        "    for i in df.index:\n",
        "        idOrigin = df.at[i, colName]\n",
        "        if idOrigin not in idEncodeDict.keys():\n",
        "            idEncodeDict[idOrigin] = current\n",
        "            current += 1\n",
        "        df.loc[i, colName] = idEncodeDict[idOrigin]\n",
        "    return idEncodeDict\n",
        "\n",
        "def index_encode(df, colName, savePath):\n",
        "    idList = df[colName].unique()\n",
        "    idMap = list(range(len(idList)))\n",
        "    decodebook = dict(zip(idMap, idList))\n",
        "    pickle_dump(f\"{savePath}/{colName}_decoding_{nameClue}_user.pkl\", decodebook)\n",
        "    gc.collect()\n",
        "    encodebook = dict(zip(idList, idMap))\n",
        "    pickle_dump(f\"{savePath}/customer_id_encoding_{nameClue}_user.pkl\", encodebook)\n",
        "    df.replace({colName: encodebook}, inplace=True)\n",
        "    gc.collect()\n",
        "\n",
        "\n",
        "\n",
        "def get_n_user_rating(df, n=-1):\n",
        "    ''' Sample all movies viewed by n users, better partial prediction than random pick'''\n",
        "    if n==-1: dfSampledUser = df['customer_id']\n",
        "    else: dfSampledUser = df['customer_id'].sample(n=n)\n",
        "    selected = df.loc[df['customer_id'].isin(dfSampledUser)].copy()\n",
        "    return selected\n",
        "\n",
        "def pickle_dump(path, d):\n",
        "    with open(path, 'wb+') as f:\n",
        "        pickle.dump(d, f)"
      ]
    },
    {
      "cell_type": "code",
      "execution_count": null,
      "metadata": {},
      "outputs": [],
      "source": [
        "# TODO: Parse file into small portions and create dictionaries into portions"
      ]
    },
    {
      "cell_type": "code",
      "execution_count": 5,
      "metadata": {
        "id": "FZgC-xAS0RTS"
      },
      "outputs": [
        {
          "ename": "Error",
          "evalue": "Canceled future for execute_request message before replies were done",
          "output_type": "error",
          "traceback": [
            "Error: Canceled future for execute_request message before replies were done",
            "at t.KernelShellFutureHandler.dispose (/home/shane/.vscode-server/extensions/ms-toolsai.jupyter-2022.3.1000901801/out/extension.js:2:1204175)",
            "at /home/shane/.vscode-server/extensions/ms-toolsai.jupyter-2022.3.1000901801/out/extension.js:2:1223227",
            "at Map.forEach (<anonymous>)",
            "at v._clearKernelState (/home/shane/.vscode-server/extensions/ms-toolsai.jupyter-2022.3.1000901801/out/extension.js:2:1223212)",
            "at v.dispose (/home/shane/.vscode-server/extensions/ms-toolsai.jupyter-2022.3.1000901801/out/extension.js:2:1216694)",
            "at /home/shane/.vscode-server/extensions/ms-toolsai.jupyter-2022.3.1000901801/out/extension.js:2:533674",
            "at t.swallowExceptions (/home/shane/.vscode-server/extensions/ms-toolsai.jupyter-2022.3.1000901801/out/extension.js:2:913059)",
            "at dispose (/home/shane/.vscode-server/extensions/ms-toolsai.jupyter-2022.3.1000901801/out/extension.js:2:533652)",
            "at t.RawSession.dispose (/home/shane/.vscode-server/extensions/ms-toolsai.jupyter-2022.3.1000901801/out/extension.js:2:537330)",
            "at runMicrotasks (<anonymous>)",
            "at processTicksAndRejections (node:internal/process/task_queues:96:5)"
          ]
        }
      ],
      "source": [
        "encode_all_ids = True\n",
        "make_continuous = True\n",
        "if encode_all_ids:\n",
        "    userCount = -1 # all users\n",
        "    nameClue = \"all\" if userCount == -1 else str(userCount)\n",
        "    countDf = pd.read_csv(f\"{projectPath}/customer_article_count.csv\")\n",
        "    dfSample = get_n_user_rating(countDf, userCount) # get all purchase of random n users\n",
        "    # tester = dfSample.sort_values(by='rating', ascending=False).head(100)\n",
        "    if make_continuous:\n",
        "        index_encode(dfSample, 'customer_id', projectPath)\n",
        "        index_encode(dfSample, 'article_id', projectPath)\n",
        "    dfSample.to_csv(f\"{projectPath}/sampled_{nameClue}_user_all_purchase.csv\") # Save Counts to csv file"
      ]
    },
    {
      "cell_type": "markdown",
      "metadata": {},
      "source": [
        "## Normalize purchase as recommendation rating"
      ]
    },
    {
      "cell_type": "code",
      "execution_count": 5,
      "metadata": {
        "id": "tCp97JxhQaZ4"
      },
      "outputs": [],
      "source": [
        "def pickle_load(path):\n",
        "    with open(path, 'rb') as f:\n",
        "        return pickle.load(f)\n",
        "\n",
        "if False: # Reminder, For future use\n",
        "    encodes = {}\n",
        "    encodes[\"customer_id\"] = pickle_load(f\"{projectPath}/customer_id_encoding_{getUserCount}_user.pkl\")\n",
        "    encodes[\"article_id\"] = pickle_load(f\"{projectPath}/article_id_encoding_{getUserCount}_user.pkl\")"
      ]
    },
    {
      "cell_type": "code",
      "execution_count": 6,
      "metadata": {
        "id": "66vLAcCsVNbe"
      },
      "outputs": [],
      "source": [
        "def normalize_purchase_count(df):\n",
        "    df_matrix = pd.pivot_table(df, values='rating', index='customer_id', columns='article_id')\n",
        "    df_matrix_norm = (df_matrix-df_matrix.min())/(df_matrix.max()-df_matrix.min())\n",
        "    d = df_matrix_norm.reset_index()\n",
        "    print(d.head())\n",
        "    # d.index.names = ['scaled_purchase_freq']\n",
        "    # return pd.melt(d, id_vars=['customerId'], value_name='scaled_purchase_freq').dropna()"
      ]
    },
    {
      "cell_type": "code",
      "execution_count": 3,
      "metadata": {
        "id": "lzjkFnKbwbyy"
      },
      "outputs": [
        {
          "ename": "Error",
          "evalue": "Canceled future for execute_request message before replies were done",
          "output_type": "error",
          "traceback": [
            "Error: Canceled future for execute_request message before replies were done",
            "at t.KernelShellFutureHandler.dispose (/home/shane/.vscode-server/extensions/ms-toolsai.jupyter-2022.3.1000901801/out/extension.js:2:1204175)",
            "at /home/shane/.vscode-server/extensions/ms-toolsai.jupyter-2022.3.1000901801/out/extension.js:2:1223227",
            "at Map.forEach (<anonymous>)",
            "at v._clearKernelState (/home/shane/.vscode-server/extensions/ms-toolsai.jupyter-2022.3.1000901801/out/extension.js:2:1223212)",
            "at v.dispose (/home/shane/.vscode-server/extensions/ms-toolsai.jupyter-2022.3.1000901801/out/extension.js:2:1216694)",
            "at /home/shane/.vscode-server/extensions/ms-toolsai.jupyter-2022.3.1000901801/out/extension.js:2:533674",
            "at t.swallowExceptions (/home/shane/.vscode-server/extensions/ms-toolsai.jupyter-2022.3.1000901801/out/extension.js:2:913059)",
            "at dispose (/home/shane/.vscode-server/extensions/ms-toolsai.jupyter-2022.3.1000901801/out/extension.js:2:533652)",
            "at t.RawSession.dispose (/home/shane/.vscode-server/extensions/ms-toolsai.jupyter-2022.3.1000901801/out/extension.js:2:537330)",
            "at processTicksAndRejections (node:internal/process/task_queues:96:5)"
          ]
        }
      ],
      "source": [
        "normalize_rating = True\n",
        "if normalize_rating:\n",
        "    userCount = -1\n",
        "    nameClue = \"all\" if userCount == -1 else str(userCount)\n",
        "    dfSample = pd.read_csv(f\"{projectPath}/sampled_{nameClue}_user_all_purchase.csv\") # Save Counts to csv file\n",
        "    \n",
        "    df_matrix = pd.pivot_table(dfSample, values='rating', index='customer_id', columns='article_id')\n",
        "    df_matrix_norm = (df_matrix-df_matrix.min())/(df_matrix.max()-df_matrix.min())\n",
        "    df_matrix_norm = df_matrix_norm.reset_index() # get customer_id out from being row index for unpivoting\n",
        "    \n",
        "    ratingNormDf = pd.melt(df_matrix_norm, id_vars=['customer_id'], value_name='rating_norm').dropna() # unpivot article_ids into tuples\n",
        "    ratingNormDf.to_csv(f\"{projectPath}/normalized_rating_triples.csv\") # Save to csv file\n",
        "    # display(ratingNormDf.head())"
      ]
    },
    {
      "cell_type": "markdown",
      "metadata": {},
      "source": [
        "## Actual Recommendation"
      ]
    },
    {
      "cell_type": "code",
      "execution_count": null,
      "metadata": {
        "id": "tElxGoiBi-W8"
      },
      "outputs": [],
      "source": [
        "def data_split(data, test_ratio=0.2):\n",
        "    train, test = train_test_split(data, test_size =test_ratio)\n",
        "    train_data = tc.SFrame(train)\n",
        "    test_data = tc.SFrame(test)\n",
        "    return train_data, test_data"
      ]
    },
    {
      "cell_type": "code",
      "execution_count": null,
      "metadata": {
        "id": "tX7zvM9pxQLW"
      },
      "outputs": [],
      "source": [
        "split_data = True\n",
        "if split_data:\n",
        "    ratingNormDf = pd.read_csv(f\"{projectPath}/normalized_rating_triples.csv\")\n",
        "    train_data_norm, test_data_norm = data_split(ratingNormDf)"
      ]
    },
    {
      "cell_type": "code",
      "execution_count": null,
      "metadata": {
        "id": "AoWviFdjjXlS"
      },
      "outputs": [],
      "source": [
        "def createModel(train_data, simType, user_id, item_id, target):\n",
        "    if simType == 'popularity':\n",
        "        model = tc.popularity_recommender.create(train_data, user_id=user_id, item_id=item_id, target=target)\n",
        "    elif simType == 'cosine':\n",
        "        model = tc.item_similarity_recommender.create(train_data, user_id=user_id, item_id=item_id, target=target, similarity_type='cosine')\n",
        "    elif simType == 'pearson':\n",
        "            model = tc.item_similarity_recommender.create(train_data, user_id=user_id, item_id=item_id, target=target, similarity_type='pearson')\n",
        "    return model\n",
        "\n",
        "user_id = 'customer_id'\n",
        "item_id = 'article_id'\n",
        "target = 'rating_norm'\n",
        "simType = 'popularity'\n",
        "usersToRecommend = list(set(ratingNormDf['customer_id'].tolist()))\n",
        "\n",
        "model = createModel(train_data_norm, simType, user_id, item_id, target)\n",
        "res = model.recommend(users=usersToRecommend, k=3)\n",
        "res.print_rows(20)"
      ]
    }
  ],
  "metadata": {
    "colab": {
      "collapsed_sections": [],
      "name": "Cofilter_Xingeng",
      "provenance": []
    },
    "kernelspec": {
      "display_name": "Python 3",
      "name": "python3"
    },
    "language_info": {
      "codemirror_mode": {
        "name": "ipython",
        "version": 3
      },
      "file_extension": ".py",
      "mimetype": "text/x-python",
      "name": "python",
      "nbconvert_exporter": "python",
      "pygments_lexer": "ipython3",
      "version": "3.8.13"
    }
  },
  "nbformat": 4,
  "nbformat_minor": 0
}
