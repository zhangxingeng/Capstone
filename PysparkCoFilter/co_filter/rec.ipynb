{
 "cells": [
  {
   "cell_type": "code",
   "execution_count": 3,
   "metadata": {},
   "outputs": [
    {
     "data": {
      "text/html": [
       "<div>\n",
       "<style scoped>\n",
       "    .dataframe tbody tr th:only-of-type {\n",
       "        vertical-align: middle;\n",
       "    }\n",
       "\n",
       "    .dataframe tbody tr th {\n",
       "        vertical-align: top;\n",
       "    }\n",
       "\n",
       "    .dataframe thead th {\n",
       "        text-align: right;\n",
       "    }\n",
       "</style>\n",
       "<table border=\"1\" class=\"dataframe\">\n",
       "  <thead>\n",
       "    <tr style=\"text-align: right;\">\n",
       "      <th></th>\n",
       "      <th>customer_id</th>\n",
       "      <th>prediction</th>\n",
       "    </tr>\n",
       "  </thead>\n",
       "  <tbody>\n",
       "    <tr>\n",
       "      <th>0</th>\n",
       "      <td>0291b7341d510fd571abf640a3c5ca7a374e6eb832a609...</td>\n",
       "      <td>685687004 553139001 685687002 629760002 567594...</td>\n",
       "    </tr>\n",
       "    <tr>\n",
       "      <th>1</th>\n",
       "      <td>082be29fac9f2b1eaa0e70166436a83a507bb288a00604...</td>\n",
       "      <td>685687004 553139001 685687002 629760002 567594...</td>\n",
       "    </tr>\n",
       "    <tr>\n",
       "      <th>2</th>\n",
       "      <td>084cf84a3e0161a9249286b5a81f119cb8042dd183e06d...</td>\n",
       "      <td>467302100 656099001 620963003 634037002 108775...</td>\n",
       "    </tr>\n",
       "    <tr>\n",
       "      <th>3</th>\n",
       "      <td>08c2198f987453e8432c230af2260838ba369c980e7d0d...</td>\n",
       "      <td>685687004 553139001 685687002 629760002 567594...</td>\n",
       "    </tr>\n",
       "    <tr>\n",
       "      <th>4</th>\n",
       "      <td>0fa69953e58a4b84ad466f4e10052324f811f3f0ee9174...</td>\n",
       "      <td>685687004 553139001 685687002 629760002 567594...</td>\n",
       "    </tr>\n",
       "  </tbody>\n",
       "</table>\n",
       "</div>"
      ],
      "text/plain": [
       "                                         customer_id  \\\n",
       "0  0291b7341d510fd571abf640a3c5ca7a374e6eb832a609...   \n",
       "1  082be29fac9f2b1eaa0e70166436a83a507bb288a00604...   \n",
       "2  084cf84a3e0161a9249286b5a81f119cb8042dd183e06d...   \n",
       "3  08c2198f987453e8432c230af2260838ba369c980e7d0d...   \n",
       "4  0fa69953e58a4b84ad466f4e10052324f811f3f0ee9174...   \n",
       "\n",
       "                                          prediction  \n",
       "0  685687004 553139001 685687002 629760002 567594...  \n",
       "1  685687004 553139001 685687002 629760002 567594...  \n",
       "2  467302100 656099001 620963003 634037002 108775...  \n",
       "3  685687004 553139001 685687002 629760002 567594...  \n",
       "4  685687004 553139001 685687002 629760002 567594...  "
      ]
     },
     "execution_count": 3,
     "metadata": {},
     "output_type": "execute_result"
    }
   ],
   "source": [
    "import pandas as pd\n",
    "rawDf= pd.read_csv(\"./recommend12.csv\")\n",
    "rawDf.head()"
   ]
  },
  {
   "cell_type": "code",
   "execution_count": 7,
   "metadata": {},
   "outputs": [
    {
     "name": "stdout",
     "output_type": "stream",
     "text": [
      "11\n",
      "64\n"
     ]
    }
   ],
   "source": [
    "len = rawDf[\"customer_id\"].apply(len).tolist()\n",
    "print(min(len))\n",
    "print(max(len))\n",
    "\n",
    "print(len(\"0108775015\"))\n",
    "print(len(\"00000dbacae5abe5e23885899a1fa44253a17956c6d1c3d25f88aa139fdfc657\"))\n"
   ]
  },
  {
   "cell_type": "code",
   "execution_count": null,
   "metadata": {},
   "outputs": [],
   "source": [
    "df[\"prediction\"] = df[\"prediction\"].apply(lambda L: L.A.replace(L.B, ''), axis=1)"
   ]
  }
 ],
 "metadata": {
  "interpreter": {
   "hash": "7ab51767c88b9b0e33fe0ee44cc13d0157f367734e048f759ceaecd9cb547a37"
  },
  "kernelspec": {
   "display_name": "Python 3.8.12 ('jupyter')",
   "language": "python",
   "name": "python3"
  },
  "language_info": {
   "codemirror_mode": {
    "name": "ipython",
    "version": 3
   },
   "file_extension": ".py",
   "mimetype": "text/x-python",
   "name": "python",
   "nbconvert_exporter": "python",
   "pygments_lexer": "ipython3",
   "version": "3.8.12"
  },
  "orig_nbformat": 4
 },
 "nbformat": 4,
 "nbformat_minor": 2
}
