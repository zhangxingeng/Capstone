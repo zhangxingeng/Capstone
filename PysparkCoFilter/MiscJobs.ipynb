{
 "cells": [
  {
   "cell_type": "code",
   "execution_count": 1,
   "id": "5caae86b-c405-43bc-8fb2-12e4e6274a19",
   "metadata": {},
   "outputs": [],
   "source": [
    "import pandas as pd\n",
    "transactions = pd.read_csv(\"./co_filter/transactions_train.csv\", dtype={'customer_id': str, 'article_id': str})[['customer_id', 'article_id', 't_dat']]\n",
    "trans = transactions.set_index('t_dat')\n",
    "best_arts = trans.loc['2020-01-01': '2020-10-01']\n",
    "best_arts.to_csv(\"./co_filter/transactions_selected.csv\")"
   ]
  },
  {
   "cell_type": "code",
   "execution_count": 4,
   "id": "9e0f017c",
   "metadata": {},
   "outputs": [
    {
     "name": "stdout",
     "output_type": "stream",
     "text": [
      "customer_id,FN,Active,club_member_status,fashion_news_frequency,age,postal_code\n",
      "\n",
      "00000dbacae5abe5e23885899a1fa44253a17956c6d1c3d25f88aa139fdfc657,,,ACTIVE,NONE,49,52043ee2162cf5aa7ee79974281641c6f11a68d276429a91f8ca0d4b6efa8100\n",
      "\n",
      "0000423b00ade91418cceaf3b26c6af3dd342b51fd051eec9c12fb36984420fa,,,ACTIVE,NONE,25,2973abc54daa8a5f8ccfe9362140c63247c5eee03f1d93f4c830291c32bc3057\n",
      "\n",
      "000058a12d5b43e67d225668fa1f8d618c13dc232df0cad8ffe7ad4a1091e318,,,ACTIVE,NONE,24,64f17e6a330a85798e4998f62d0930d14db8db1c054af6c9090f7dd3e38380dc\n",
      "\n",
      "00005ca1c9ed5f5146b52ac8639a40ca9d57aeff4d1bd2c5feb1ca5dff07c43e,,,ACTIVE,NONE,54,5d36574f52495e81f019b680c843c443bd343d5ca5b1c222539af5973a23ae6d\n",
      "\n"
     ]
    }
   ],
   "source": [
    "with open(\"./co_filter/customers.csv\") as f:\n",
    "    for i in range(5):\n",
    "        line = f.readline()\n",
    "        print(line)"
   ]
  }
 ],
 "metadata": {
  "kernelspec": {
   "display_name": "Python 3.8",
   "language": "python",
   "name": "python3"
  },
  "language_info": {
   "codemirror_mode": {
    "name": "ipython",
    "version": 3
   },
   "file_extension": ".py",
   "mimetype": "text/x-python",
   "name": "python",
   "nbconvert_exporter": "python",
   "pygments_lexer": "ipython3",
   "version": "3.8.13"
  }
 },
 "nbformat": 4,
 "nbformat_minor": 5
}
